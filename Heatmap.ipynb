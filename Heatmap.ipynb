{
 "cells": [
  {
   "cell_type": "markdown",
   "metadata": {},
   "source": [
    "# Heatmaps"
   ]
  },
  {
   "cell_type": "code",
   "execution_count": 1,
   "metadata": {
    "ExecuteTime": {
     "end_time": "2021-03-25T11:45:21.404901Z",
     "start_time": "2021-03-25T11:45:18.253328Z"
    }
   },
   "outputs": [],
   "source": [
    "###Libraries\n",
    "import pandas as pd\n",
    "import seaborn as sns\n",
    "import matplotlib.pyplot as plt"
   ]
  },
  {
   "cell_type": "code",
   "execution_count": 2,
   "metadata": {
    "ExecuteTime": {
     "end_time": "2021-03-25T11:45:22.529904Z",
     "start_time": "2021-03-25T11:45:21.410905Z"
    }
   },
   "outputs": [
    {
     "data": {
      "image/png": "[encoded data removed]",
      "text/plain": [
       "<Figure size 792x504 with 2 Axes>"
      ]
     },
     "metadata": {
      "needs_background": "light"
     },
     "output_type": "display_data"
    }
   ],
   "source": [
    "###Data\n",
    "df = pd.DataFrame({'X': ['a', 'a', 'a', 'b', 'b', 'b', 'c', 'c', 'c'],\n",
    "                   'Y': ['d', 'e', 'f', 'd', 'e', 'f', 'd', 'e', 'f'],\n",
    "                   'cnt': [2, 4, 2, 5, 2, 1, 9, 4, 2]})\n",
    "\n",
    "df = pd.pivot_table(df, index = 'Y', columns = 'X', values = 'cnt')\n",
    "\n",
    "###Graph\n",
    "fig, ax = plt.subplots(figsize=(11,7))\n",
    "sns.heatmap(df, linewidths=.5, cmap = 'Blues', ax=ax, annot=True, fmt=\"d\", annot_kws={\"size\":14})\n",
    "\n",
    "#make adjustments\n",
    "ax.set_xlabel('X', labelpad = 20,  fontsize=18)\n",
    "ax.set_ylabel('Y', labelpad = 20,  fontsize=18)\n",
    "\n",
    "ax.tick_params(labelsize=12)\n",
    "plt.yticks(va='center')\n",
    "\n",
    "ax.text(x=0.5, y=1.1, s='Main Title', fontsize=24, ha='center', va='bottom', transform=ax.transAxes)\n",
    "ax.text(x=0.5, y=1.05, s='Subtitle', fontsize=14, alpha=0.75, ha='center', va='bottom', transform=ax.transAxes)\n",
    "\n",
    "fig.tight_layout()\n",
    "plt.show()"
   ]
  }
 ],
 "metadata": {
  "hide_input": false,
  "kernelspec": {
   "display_name": "Python 3",
   "language": "python",
   "name": "python3"
  },
  "language_info": {
   "codemirror_mode": {
    "name": "ipython",
    "version": 3
   },
   "file_extension": ".py",
   "mimetype": "text/x-python",
   "name": "python",
   "nbconvert_exporter": "python",
   "pygments_lexer": "ipython3",
   "version": "3.8.5"
  }
 },
 "nbformat": 4,
 "nbformat_minor": 4
}
